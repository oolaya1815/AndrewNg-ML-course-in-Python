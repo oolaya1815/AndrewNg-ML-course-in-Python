{
 "cells": [
  {
   "cell_type": "code",
   "execution_count": 1,
   "metadata": {},
   "outputs": [],
   "source": [
    "from scipy.io import loadmat\n",
    "import numpy as np\n",
    "import scipy.optimize as opt"
   ]
  },
  {
   "cell_type": "code",
   "execution_count": 2,
   "metadata": {},
   "outputs": [],
   "source": [
    "data = loadmat('ex3data1.mat')"
   ]
  },
  {
   "cell_type": "code",
   "execution_count": 3,
   "metadata": {},
   "outputs": [],
   "source": [
    "X = data['X']\n",
    "y = data['y']"
   ]
  },
  {
   "cell_type": "code",
   "execution_count": 4,
   "metadata": {},
   "outputs": [],
   "source": [
    "m = len(y)\n",
    "ones = np.ones((m,1))\n",
    "X = np.hstack((ones, X))\n",
    "(m,n) = X.shape\n",
    "k = 10"
   ]
  },
  {
   "cell_type": "code",
   "execution_count": 5,
   "metadata": {},
   "outputs": [
    {
     "name": "stdout",
     "output_type": "stream",
     "text": [
      "5000 401 10\n"
     ]
    }
   ],
   "source": [
    "print(m, n, k)"
   ]
  },
  {
   "cell_type": "code",
   "execution_count": 6,
   "metadata": {},
   "outputs": [],
   "source": [
    "def sigmoid(z):\n",
    "    return 1/(1+np.exp(-z))"
   ]
  },
  {
   "cell_type": "code",
   "execution_count": 7,
   "metadata": {},
   "outputs": [],
   "source": [
    "def costFunctionReg(theta, X, y, lmbda):\n",
    "    m = len(y)\n",
    "    temp1 = np.multiply(y, np.log(sigmoid(np.dot(X, theta))))\n",
    "    temp2 = np.multiply(1-y, np.log(1-sigmoid(np.dot(X, theta))))\n",
    "    return np.sum(temp1 + temp2) / (-m) + np.sum(theta[1:]**2) * lmbda / (2*m)"
   ]
  },
  {
   "cell_type": "code",
   "execution_count": 8,
   "metadata": {},
   "outputs": [],
   "source": [
    "def gradRegularization(theta, X, y, lmbda):\n",
    "    m = len(y)\n",
    "    temp = sigmoid(np.dot(X, theta)) - y\n",
    "    temp = np.dot(temp.T, X).T / m + theta * lmbda / m\n",
    "    temp[0] = temp[0] - theta[0] * lmbda / m\n",
    "    return temp"
   ]
  },
  {
   "cell_type": "code",
   "execution_count": 9,
   "metadata": {},
   "outputs": [],
   "source": [
    "theta_t = np.array([-2,-1,1,2])\n",
    "X_t = np.hstack([np.ones([5,1]), np.arange(1,16).reshape(5,3, order = 'F') / 10])\n",
    "y_t = np.array([1,0,1,0,1])\n",
    "lambda_t = 3"
   ]
  },
  {
   "cell_type": "code",
   "execution_count": 10,
   "metadata": {},
   "outputs": [
    {
     "data": {
      "text/plain": [
       "2.5348193961097443"
      ]
     },
     "execution_count": 10,
     "metadata": {},
     "output_type": "execute_result"
    }
   ],
   "source": [
    "J = costFunctionReg(theta_t, X_t, y_t, lambda_t)\n",
    "J"
   ]
  },
  {
   "cell_type": "code",
   "execution_count": 11,
   "metadata": {},
   "outputs": [
    {
     "data": {
      "text/plain": [
       "array([ 0.14656137, -0.54855841,  0.72472227,  1.39800296])"
      ]
     },
     "execution_count": 11,
     "metadata": {},
     "output_type": "execute_result"
    }
   ],
   "source": [
    "grad = gradRegularization(theta_t, X_t, y_t, lambda_t)\n",
    "grad"
   ]
  },
  {
   "cell_type": "code",
   "execution_count": 12,
   "metadata": {},
   "outputs": [
    {
     "data": {
      "text/plain": [
       "(10, 401)"
      ]
     },
     "execution_count": 12,
     "metadata": {},
     "output_type": "execute_result"
    }
   ],
   "source": [
    "lmbda = 0.1\n",
    "theta = np.zeros((k,n))\n",
    "theta.shape"
   ]
  },
  {
   "cell_type": "code",
   "execution_count": 13,
   "metadata": {},
   "outputs": [
    {
     "name": "stdout",
     "output_type": "stream",
     "text": [
      "Warning: Maximum number of iterations has been exceeded.\n",
      "         Current function value: 0.009110\n",
      "         Iterations: 50\n",
      "         Function evaluations: 182\n",
      "         Gradient evaluations: 182\n",
      "Warning: Maximum number of iterations has been exceeded.\n",
      "         Current function value: 0.014069\n",
      "         Iterations: 50\n",
      "         Function evaluations: 180\n",
      "         Gradient evaluations: 180\n",
      "Warning: Maximum number of iterations has been exceeded.\n",
      "         Current function value: 0.057151\n",
      "         Iterations: 50\n",
      "         Function evaluations: 140\n",
      "         Gradient evaluations: 140\n",
      "Warning: Maximum number of iterations has been exceeded.\n",
      "         Current function value: 0.061954\n",
      "         Iterations: 50\n",
      "         Function evaluations: 139\n",
      "         Gradient evaluations: 139\n",
      "Warning: Maximum number of iterations has been exceeded.\n",
      "         Current function value: 0.037404\n",
      "         Iterations: 50\n",
      "         Function evaluations: 154\n",
      "         Gradient evaluations: 154\n",
      "Warning: Maximum number of iterations has been exceeded.\n",
      "         Current function value: 0.063881\n",
      "         Iterations: 50\n",
      "         Function evaluations: 131\n",
      "         Gradient evaluations: 131\n",
      "Warning: Maximum number of iterations has been exceeded.\n",
      "         Current function value: 0.020031\n",
      "         Iterations: 50\n",
      "         Function evaluations: 175\n",
      "         Gradient evaluations: 175\n",
      "Warning: Maximum number of iterations has been exceeded.\n",
      "         Current function value: 0.033830\n",
      "         Iterations: 50\n",
      "         Function evaluations: 159\n",
      "         Gradient evaluations: 159\n",
      "Warning: Maximum number of iterations has been exceeded.\n",
      "         Current function value: 0.085516\n",
      "         Iterations: 50\n",
      "         Function evaluations: 131\n",
      "         Gradient evaluations: 131\n",
      "Warning: Maximum number of iterations has been exceeded.\n",
      "         Current function value: 0.076294\n",
      "         Iterations: 50\n",
      "         Function evaluations: 136\n",
      "         Gradient evaluations: 136\n"
     ]
    }
   ],
   "source": [
    "for i in range(k):\n",
    "    iclass = i if i else 10\n",
    "    theta[i] = opt.fmin_cg(f = costFunctionReg, x0 = theta[i], fprime = gradRegularization, args = (X, (y == iclass).flatten(), lmbda), maxiter = 50)"
   ]
  },
  {
   "cell_type": "code",
   "execution_count": 14,
   "metadata": {},
   "outputs": [
    {
     "data": {
      "text/plain": [
       "(10, 401)"
      ]
     },
     "execution_count": 14,
     "metadata": {},
     "output_type": "execute_result"
    }
   ],
   "source": [
    "theta.shape"
   ]
  },
  {
   "cell_type": "code",
   "execution_count": 15,
   "metadata": {},
   "outputs": [
    {
     "data": {
      "text/plain": [
       "95.08"
      ]
     },
     "execution_count": 15,
     "metadata": {},
     "output_type": "execute_result"
    }
   ],
   "source": [
    "pred = np.argmax(X @ theta.T, axis = 1)\n",
    "pred = [e if e else 10 for e in pred]\n",
    "np.mean(pred == y.flatten()) * 100"
   ]
  },
  {
   "cell_type": "code",
   "execution_count": 16,
   "metadata": {},
   "outputs": [
    {
     "name": "stdout",
     "output_type": "stream",
     "text": [
      "10\n",
      "12192.2767565637\n",
      "1\n",
      "10755.366772652875\n",
      "2\n",
      "5922.846609138263\n",
      "3\n",
      "5851.384634056636\n",
      "4\n",
      "7128.0761373507285\n",
      "5\n",
      "5119.597160067649\n",
      "6\n",
      "9281.47172149518\n",
      "7\n",
      "8159.857751357409\n",
      "8\n",
      "4788.728124474965\n",
      "9\n",
      "5111.939795899413\n"
     ]
    }
   ],
   "source": [
    "for i in range(k):\n",
    "    iclass = i if i else 10\n",
    "    print(iclass)\n",
    "    J = costFunctionReg(theta[i], X, (y == iclass), lmbda)\n",
    "    print(J)"
   ]
  },
  {
   "cell_type": "code",
   "execution_count": null,
   "metadata": {},
   "outputs": [],
   "source": []
  }
 ],
 "metadata": {
  "kernelspec": {
   "display_name": "Python 3",
   "language": "python",
   "name": "python3"
  },
  "language_info": {
   "codemirror_mode": {
    "name": "ipython",
    "version": 3
   },
   "file_extension": ".py",
   "mimetype": "text/x-python",
   "name": "python",
   "nbconvert_exporter": "python",
   "pygments_lexer": "ipython3",
   "version": "3.6.4"
  }
 },
 "nbformat": 4,
 "nbformat_minor": 2
}
